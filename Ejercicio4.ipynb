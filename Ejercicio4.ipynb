{
  "nbformat": 4,
  "nbformat_minor": 0,
  "metadata": {
    "colab": {
      "provenance": []
    },
    "kernelspec": {
      "name": "python3",
      "display_name": "Python 3"
    },
    "language_info": {
      "name": "python"
    }
  },
  "cells": [
    {
      "cell_type": "markdown",
      "source": [
        "Ejercicio 4"
      ],
      "metadata": {
        "id": "dd3wjZ3CkqKb"
      }
    },
    {
      "cell_type": "markdown",
      "source": [
        "El número de accidentes que se producen en una vía de circulación de una ciudad es en promedio, de dos a la semana.Determínese:\n",
        "\n",
        "a)Probabilidad de que no se registre ningún accidente en una semana determinada.\n",
        "\n",
        "b)Probabilidad de que en un mes haya más de 5 accidentes"
      ],
      "metadata": {
        "id": "3L57vpNdk3RT"
      }
    },
    {
      "cell_type": "markdown",
      "source": [
        "Por simulación"
      ],
      "metadata": {
        "id": "PfFmIaO8lgx2"
      }
    },
    {
      "cell_type": "code",
      "source": [
        "import numpy as np\n",
        "import random\n",
        "import matplotlib.pyplot as plt"
      ],
      "metadata": {
        "id": "Dttlv3KUkuAq"
      },
      "execution_count": 1,
      "outputs": []
    },
    {
      "cell_type": "markdown",
      "source": [
        "Generamos los números aleatorios"
      ],
      "metadata": {
        "id": "DkCKZG7vmjbq"
      }
    },
    {
      "cell_type": "code",
      "source": [
        "def axs():\n",
        "  a=np.random.poisson(2)\n",
        "  return a"
      ],
      "metadata": {
        "id": "M7bAco9qlywK"
      },
      "execution_count": 2,
      "outputs": []
    },
    {
      "cell_type": "code",
      "source": [
        "def sxs(n):\n",
        "  cero=0\n",
        "  proba=[]\n",
        "  for i in range(n):\n",
        "    if axs()==0:\n",
        "      cero+=1 \n",
        "      proba.append(cero/(i+1))\n",
        "  return proba\n"
      ],
      "metadata": {
        "id": "4QxdA7GolzgG"
      },
      "execution_count": 3,
      "outputs": []
    },
    {
      "cell_type": "code",
      "source": [
        "X=sxs(500)"
      ],
      "metadata": {
        "id": "6ZaQQksmmA6y"
      },
      "execution_count": 4,
      "outputs": []
    },
    {
      "cell_type": "markdown",
      "source": [
        "Obtenemos la gráfica"
      ],
      "metadata": {
        "id": "0juH5FWMsFF4"
      }
    },
    {
      "cell_type": "code",
      "source": [
        "plt.plot(X,color=\"green\")\n",
        "plt.title('Gráfica')\n",
        "plt.show() "
      ],
      "metadata": {
        "colab": {
          "base_uri": "https://localhost:8080/",
          "height": 452
        },
        "id": "WikJkjQSmED_",
        "outputId": "f5db96f5-57e1-44cc-85ea-f46e71d74dff"
      },
      "execution_count": 5,
      "outputs": [
        {
          "output_type": "display_data",
          "data": {
            "text/plain": [
              "<Figure size 640x480 with 1 Axes>"
            ],
            "image/png": "[encoded data removed]"
          },
          "metadata": {}
        }
      ]
    },
    {
      "cell_type": "markdown",
      "source": [
        "Calculamos la media"
      ],
      "metadata": {
        "id": "0KF4CecqnySA"
      }
    },
    {
      "cell_type": "code",
      "source": [
        "np.mean(X)"
      ],
      "metadata": {
        "colab": {
          "base_uri": "https://localhost:8080/"
        },
        "id": "1n0K00fhmIkH",
        "outputId": "65291d45-30a1-49e7-9f6e-4635d582c6f1"
      },
      "execution_count": 6,
      "outputs": [
        {
          "output_type": "execute_result",
          "data": {
            "text/plain": [
              "0.1467561154538055"
            ]
          },
          "metadata": {},
          "execution_count": 6
        }
      ]
    },
    {
      "cell_type": "code",
      "source": [
        "def model(n): \n",
        "    lista=[]\n",
        "    for i in range(n):\n",
        "        s = sxs(500)\n",
        "        lista.append(np.mean(s)) \n",
        "    return lista"
      ],
      "metadata": {
        "id": "9jnU340soFfK"
      },
      "execution_count": 7,
      "outputs": []
    },
    {
      "cell_type": "markdown",
      "source": [
        "Repetimos el modelo n veces"
      ],
      "metadata": {
        "id": "Rcn63UycpFhq"
      }
    },
    {
      "cell_type": "code",
      "source": [
        "M=model(50) "
      ],
      "metadata": {
        "id": "oiamsHRnmMCB"
      },
      "execution_count": 8,
      "outputs": []
    },
    {
      "cell_type": "markdown",
      "source": [
        "Calculamos la media y la desviación estandar"
      ],
      "metadata": {
        "id": "NwsAmP4KoMKe"
      }
    },
    {
      "cell_type": "code",
      "source": [
        "print(np.mean(M), np.std(M))"
      ],
      "metadata": {
        "colab": {
          "base_uri": "https://localhost:8080/"
        },
        "id": "iAJVxTpPmO7e",
        "outputId": "66d9f550-d2c8-4b4d-a864-cc4cb27eb5ec"
      },
      "execution_count": 10,
      "outputs": [
        {
          "output_type": "stream",
          "name": "stdout",
          "text": [
            "0.1436995800472777 0.022349927143659565\n"
          ]
        }
      ]
    },
    {
      "cell_type": "markdown",
      "source": [
        "Obtenemos la gráfica"
      ],
      "metadata": {
        "id": "HnEwC4msoYJF"
      }
    },
    {
      "cell_type": "code",
      "source": [
        "plt.hist(M, color=\"blue\")\n",
        "plt.show()"
      ],
      "metadata": {
        "colab": {
          "base_uri": "https://localhost:8080/",
          "height": 430
        },
        "id": "UlAzj6k9mUNR",
        "outputId": "d8be36bd-de90-45e7-adb2-4a705d70a957"
      },
      "execution_count": 11,
      "outputs": [
        {
          "output_type": "display_data",
          "data": {
            "text/plain": [
              "<Figure size 640x480 with 1 Axes>"
            ],
            "image/png": "[encoded data removed]"
          },
          "metadata": {}
        }
      ]
    },
    {
      "cell_type": "markdown",
      "source": [
        "Obtenemos el intervalo de confianza."
      ],
      "metadata": {
        "id": "TowkpBxSo0sY"
      }
    },
    {
      "cell_type": "code",
      "source": [
        "print(np.mean(M)-(1.96)*((np.var(M))/np.sqrt(50)),\n",
        "np.mean(M)+(1.96)*((np.var(M))/np.sqrt(50)))"
      ],
      "metadata": {
        "colab": {
          "base_uri": "https://localhost:8080/"
        },
        "id": "vpY4cpdFmeOH",
        "outputId": "ca502264-8827-4869-f50d-ac8789ad9935"
      },
      "execution_count": 12,
      "outputs": [
        {
          "output_type": "stream",
          "name": "stdout",
          "text": [
            "0.14356112037711619 0.14383803971743922\n"
          ]
        }
      ]
    },
    {
      "cell_type": "markdown",
      "source": [
        "b)"
      ],
      "metadata": {
        "id": "MMYb9oOho9Xx"
      }
    },
    {
      "cell_type": "markdown",
      "source": [
        "Generamos los números aletorios"
      ],
      "metadata": {
        "id": "YUzY5Fx_r6S7"
      }
    },
    {
      "cell_type": "code",
      "source": [
        "def axs():\n",
        "  a=np.random.poisson(8) \n",
        "  return a"
      ],
      "metadata": {
        "id": "tFaZQIPqp2oU"
      },
      "execution_count": 13,
      "outputs": []
    },
    {
      "cell_type": "code",
      "source": [
        "def sxm(n):\n",
        "  a=0\n",
        "  proba=[]\n",
        "  for i in range(n):\n",
        "    if axs()>5: \n",
        "      a+=1 \n",
        "      proba.append(a/(i+1))\n",
        "  return proba\n",
        "     "
      ],
      "metadata": {
        "id": "kRV9gxPRp8yG"
      },
      "execution_count": 14,
      "outputs": []
    },
    {
      "cell_type": "code",
      "source": [
        "K=sxm(500)"
      ],
      "metadata": {
        "id": "p3UcdX8jp_Tk"
      },
      "execution_count": 15,
      "outputs": []
    },
    {
      "cell_type": "markdown",
      "source": [
        "Obtenemos la gráfica"
      ],
      "metadata": {
        "id": "85UxK_PIsMMH"
      }
    },
    {
      "cell_type": "code",
      "source": [
        "plt.plot(K,color=\"green\")\n",
        "plt.title('Gráfica')\n",
        "plt.show()"
      ],
      "metadata": {
        "colab": {
          "base_uri": "https://localhost:8080/",
          "height": 452
        },
        "id": "o5US7DiMqCSX",
        "outputId": "0a37a794-a6fa-457e-b2b4-cc31de6b8723"
      },
      "execution_count": 16,
      "outputs": [
        {
          "output_type": "display_data",
          "data": {
            "text/plain": [
              "<Figure size 640x480 with 1 Axes>"
            ],
            "image/png": "[encoded data removed]"
          },
          "metadata": {}
        }
      ]
    },
    {
      "cell_type": "markdown",
      "source": [
        "Calculamos la media"
      ],
      "metadata": {
        "id": "FHe9BUBRsQ5w"
      }
    },
    {
      "cell_type": "code",
      "source": [
        "np.mean(K)"
      ],
      "metadata": {
        "colab": {
          "base_uri": "https://localhost:8080/"
        },
        "id": "O_csquwJqGTX",
        "outputId": "68607e12-109b-4bf9-b0c2-f8d2973b71b7"
      },
      "execution_count": 17,
      "outputs": [
        {
          "output_type": "execute_result",
          "data": {
            "text/plain": [
              "0.8202502979205242"
            ]
          },
          "metadata": {},
          "execution_count": 17
        }
      ]
    },
    {
      "cell_type": "code",
      "source": [
        "def model(n): \n",
        "    lista=[]\n",
        "    for i in range(n):\n",
        "        s = sxm(500)\n",
        "        lista.append(np.mean(s)) \n",
        "    return lista"
      ],
      "metadata": {
        "id": "uZeY5WgdqLG7"
      },
      "execution_count": 18,
      "outputs": []
    },
    {
      "cell_type": "markdown",
      "source": [
        "Repetimos el modelo n veces"
      ],
      "metadata": {
        "id": "61MzevoksYEs"
      }
    },
    {
      "cell_type": "code",
      "source": [
        "M=model(50) "
      ],
      "metadata": {
        "id": "T-QaCrbqqN7M"
      },
      "execution_count": 19,
      "outputs": []
    },
    {
      "cell_type": "markdown",
      "source": [
        "Calculamos la media y la desviación estandar."
      ],
      "metadata": {
        "id": "STCbseVdsd_p"
      }
    },
    {
      "cell_type": "code",
      "source": [
        "print(np.mean(M), np.std(M))"
      ],
      "metadata": {
        "colab": {
          "base_uri": "https://localhost:8080/"
        },
        "id": "OHAFbNuBqQV3",
        "outputId": "343e5d68-f87b-4481-fe91-9040ef5f9abb"
      },
      "execution_count": 20,
      "outputs": [
        {
          "output_type": "stream",
          "name": "stdout",
          "text": [
            "0.8102923853837997 0.02470962233209041\n"
          ]
        }
      ]
    },
    {
      "cell_type": "markdown",
      "source": [
        "Obtenemos la gráfica."
      ],
      "metadata": {
        "id": "0db-FAoxsk0K"
      }
    },
    {
      "cell_type": "code",
      "source": [
        "plt.hist(M, color=\"blue\")\n",
        "plt.show()"
      ],
      "metadata": {
        "colab": {
          "base_uri": "https://localhost:8080/",
          "height": 430
        },
        "id": "R-QrhdbvqWhz",
        "outputId": "a217be0a-30d2-48bc-83c4-e212194a3e44"
      },
      "execution_count": 21,
      "outputs": [
        {
          "output_type": "display_data",
          "data": {
            "text/plain": [
              "<Figure size 640x480 with 1 Axes>"
            ],
            "image/png": "[encoded data removed]"
          },
          "metadata": {}
        }
      ]
    },
    {
      "cell_type": "markdown",
      "source": [
        "Obtenemos el intervalo de confianza"
      ],
      "metadata": {
        "id": "voDL6RNisqTL"
      }
    },
    {
      "cell_type": "code",
      "source": [
        "print(np.mean(M)-(1.96)*((np.var(M))/np.sqrt(50)),\n",
        "np.mean(M)+(1.96)*((np.var(M))/np.sqrt(50)))"
      ],
      "metadata": {
        "colab": {
          "base_uri": "https://localhost:8080/"
        },
        "id": "y-rp5Homqccd",
        "outputId": "f646aa47-8c43-4b9b-af53-53233aa43e9e"
      },
      "execution_count": 22,
      "outputs": [
        {
          "output_type": "stream",
          "name": "stdout",
          "text": [
            "0.8101231452794764 0.810461625488123\n"
          ]
        }
      ]
    }
  ]
}