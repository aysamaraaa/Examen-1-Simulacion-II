{
  "nbformat": 4,
  "nbformat_minor": 0,
  "metadata": {
    "colab": {
      "provenance": []
    },
    "kernelspec": {
      "name": "python3",
      "display_name": "Python 3"
    },
    "language_info": {
      "name": "python"
    }
  },
  "cells": [
    {
      "cell_type": "markdown",
      "source": [
        "**Ejercicio 2.**\n",
        "\n",
        "Un quiosquero vende periódicos a 1.10 euros cada uno.Cada periódico le cuesta al quiosquero 0.90 euros. Las ventas de periódicos del quiosquero a partir de su experiencia se refeja en la tabla siguiente:"
      ],
      "metadata": {
        "id": "qbZa2hkfug-9"
      }
    },
    {
      "cell_type": "markdown",
      "source": [
        "![Captura de pantalla (23).png](data:image/png;base64,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)"
      ],
      "metadata": {
        "id": "p4R7hu4D8SJh"
      }
    },
    {
      "cell_type": "markdown",
      "source": [
        "La tabla recoge por ejemplo que el 20% del tiempo las ventas han sido de 30 periódicos.Teniendo en cuenta el coste de 0.20 euros por venta perdida y el coste de 0.10 euros por el reciclaje de cada periódico no vendido, determine el beneficio promedio diario  si pide 50 periódicos cada día."
      ],
      "metadata": {
        "id": "l6wTFj6PvXC_"
      }
    },
    {
      "cell_type": "markdown",
      "source": [
        "(a) Por simulación"
      ],
      "metadata": {
        "id": "NSAqDHaWwSLL"
      }
    },
    {
      "cell_type": "markdown",
      "source": [
        "Distribución acumulada"
      ],
      "metadata": {
        "id": "Plmt5v8V_qOu"
      }
    },
    {
      "cell_type": "markdown",
      "source": [
        "![Captura de pantalla (25).png](data:image/png;base64,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)"
      ],
      "metadata": {
        "id": "dHoPM4hz85T-"
      }
    },
    {
      "cell_type": "markdown",
      "source": [
        "Intervalos."
      ],
      "metadata": {
        "id": "Fx2Md9TT_5dK"
      }
    },
    {
      "cell_type": "markdown",
      "source": [
        "![Captura de pantalla (26).png](data:image/png;base64,iVBORw0KGgoAAAANSUhEUgAAAewAAABpCAYAAAD4IBC/AAAAAXNSR0IArs4c6QAAAARnQU1BAACxjwv8YQUAAAAJcEhZcwAADsMAAA7DAcdvqGQAAAAhdEVYdENyZWF0aW9uIFRpbWUAMjAyMzowNTowNyAxNDo1MTozNjnTDHMAABacSURBVHhe7Z29dqPItse3zqPcK51enjV6ANRPYJ0OHDnUZChsKXB2FHmyDqBDKRuHjhzMRU8w0gNo1nh5xLmvolMfgKqKbwq5Dfr/1mJ1I8oF/NnU3lQV7MHf4X9OBAAAAIAPzeDEiP4vOP7n/2n0v/8TrYG6QD87oJ8d0M8O6GcH9LOjTL9/RP8CAAAA4AMDhw0AAAB0ADhsAAAAoAPAYQMAAAAd4MM57NCf0GDiUxitZ7Kdl5cBAAAAekSpw97OBzQYqMucttG2pog6sxwuc8Sj53s67hY0jH6qQm594Icggq48ewl9mij2NLc1ph4T33sTX7Fs6FdCSP7krI9YVJGgXyX0e3hCiQlCv2L4w6Siz3mJ2kFL/So9YTvekfjbX3w5egeaWjrt2zWrK8sp366zfy8htz7wA9jSNx50RfYSuBuaJla5pfloSRTbU+DSZqo0BuAMu/GnB5dcJ1oXQL+quIG0P7Gsb6NfoV8VuLMWD06xfqcdLUTjCv1K4T4s0U0uTCZmkHd024J+tbvEh4sVsd3QS+KxzYhWdebsAHl05sdRh9wmnhy00KKoDoYWlbD63qLfI1L15UYxxfvJjSpBDW5prQRPoxvmcQ5vsvdj+8Isx6WVvPtZ0QfynD29HuUqiGF2+siUWj3QTfSLAPrZAf0qwAJu7lOeMh6AoF99mC963DjkPbCgsQX96o9hh290IIduRnJ1Ox/Rchwk0YR4Ate6p/e0ZAYQiO1r1pybcCeaUUfiTNn2mRKVnFb0utyILdkYUcwpIHrkx1OyHybsbDmOjpMvcVQJmsNv/j0591/EzR++HYicG4pMJ+HwhshIJfRnwk6TB8MI6FedzTQdeEO/Coj2neh5FuvHluiJB/rVZ8uin727Er6kDf1qO2xxAM49fREtsBI9RIgn8P0z/a4cgxtkOeqI8Hd63rsUKK2TfIo/kDiPaHsSlfAnONHHkIMZxcRPfGX7Eag9B6AxyTjOlDZuQLvcyGdIn8bRf4EkDhxNb50J9EszpMUuDrp5UE60HBk9dgnQL8XxlT1iEd0/RRoyAZ3NNGesFfoVs6UX9mzp3uXdy/X1q+Sw98tREm1ND54xKYw9QY+UaIw30tGWSkQGojOim7irIHN7CRlRTOl+hgvaMeM8RJG5NtEH1EMZxznePDI98xrMkHjQCWJkb9K4KMDVgH5lpIfwVKBfNmP6FDfwwy90L0a1stpD6FdE6D/SxvFIeZ41qK9f7Uln6cld7Kk13pYsNbqTRzekzasRHOl1H3W7Z24vYf/KajAo2w+HO21x/AGNWZCSHVWCOgy/3DPdZS/GkIeTGddmnLQO1w63R7U7d0RLti4C5olPIhyHfvVQhvBgfxUQ7aTa63gG+tVBDge6q7O/bEU/5mA1ePYulcClE3PY0ZrJ8eQ5RduDk8t24TKPrsLr5NM4JbKO8zr7xXNOLEpgWziyjmQfR+/EHK+y3azPKM/XRdmy/ajIsuZxV8HU7+rg18fUmFx2FTiGPQSusk1y9fppmPcX9CsjcJ2T2hyJtsFoS6BfEYbNCY1iTaFfVfR2L8ZeP0uHzYkcITuQZMm7QSJ0B8uR5dJ/HxE7abGwE+TrSplUfVp59QYu2I8QT9lmHnRFYLCmPegNaP61kUA/FdNhM6BfMeZ9XNiWQL9MNI2M9hv6VUD6mUy/aakf0mu2DPSzA/rZAf3sgH52QD87yvSr/1oXAAAAAN4dOGwAAACgA8BhAwAAAB1gwAe5o/8DAAAA4IOCSWctA/3sgH52QD87oJ8d0M+OMv3QJQ4AAAB0ADhsAAAAoAPAYQMAAAAdAA4bAAAA6AAVHDbPIx0lI1DyXIf+pGJGqy3NlZy04JpQbCeVsQt2UQ70swP62QH97Ghfv3KHvf1GS55Hmn93PMnUxTOREN2LpNhl3NKDR/SsJsgGnYMHaNLw5KJlMgt9mmRt47YzDkQGt6N3oEfFOrfzKVFQI6tbx8nXT72poyXeCP0SoJ8duH/tiTVMPai+o37VusTN/NLbF9o491TJXzN4WrH98+/s1gKdhBnk7PmejszwpPE5tJnGESOLFEcseotTsAYu2yYjx1BJ9ipsQCQel4Y/pYDW1ZI+d59C/SRuILeJJRIG+kVAPztw/1rCn4YHNKMVMekM3le/QofNKx5MNzwhL4149BCFDtsX9tv40zkvtogwlMd7c/32jtz9M+Ehu6PwPOFKHnQ1x7UI3silVRwq3j4wo94Tt01upHR4E4EaN16HJyXmjcdyTMH13O3F+hUA/SKgnx24fy25pTVzxruF9tgqeWf9Ch32cLETEQM5nozOxE5CYvuWO49hBvHkES1nfIw7JH/GI44n5XF/RDfRSYAecHylPY2J513nhsiMQe+BYRx4a8CNl2SwN2JGulqQsI1xsGa3wBWj6BezmcZdamqgC/0ygX524P5tjffWr1qXuMaRXvf8AVu5WxjDxYo9RS9pNpmxQ/ToSeucH5IMNuI7CXQXFpA9blgM95BjdPJaS4a02MluuNNpTSOf2cY4oPXoPOZTbeJinzD1UzXi3ZUs8B3F3ZXQLw30swP372W5rH4NHHYet7RmT+P7/Z5cFkro7hz0he18lBGQqcgemBS8K4iPo61HUZTJjTig8XJ2fiK6Asr0E4EvbehFHaDlQD8B9LMD9++luax+LTrsLc2nB/I8PuiuTwgB/WA7H9D04NFRHQ/j4eT+lczRDr0Hhk/MeKb7p/jvHJIjKnyoRPxwFWTplyJ8o0OiTwz040A/O3D/ts9769fAYcudmN3bfJr6xl3RYvFAnrOhqf7egIg6zG500BVC8epMZmPJJxSqTzT8VYa9S3dKfxu3jYM2pyGez8CHV/SxyH6Sr992roy5MrbflrQ33sCAftDPDty/F+O99TsZ8HSbGoF7Isc7HaNVTuDSib9HkcDLkHtKfjl6J4eck5f8UXBytfX+ktKvD4jry665ucQ2IK53/LtxnTPsR63PMYzi6vQzt2VpBf10jeIF+lWjSD8O7t8SuP+K9Tkvybm/o37N0mtu5zR4vElHa3nw8vw98VP/ZxcivZwd0M8O6GcH9LMD+tlRpl+zMeya71WL97bdu947awAAAOBSNJx0Vudzo1t62TjkPcBdAwAAAE1pPEucf1Rldx5FL4B/Jea6vjkLAAAAtM2AD3JH/wcAAADAB6XZpDOQC/SzA/rZAf3sgH52QD87yvRr8cMpAAAAALgUcNgAAABAB4DDBgAAADoAHDYAAADQASo47JC+f5apwAafv7O16Nfvn+nz92rvYc8Hn6lSUQAAAABkUu6wt99osXMp4Dk9//gafYp0S98WRPf/qvYe9oNP9Px/8NidJvxOn6McrnzRcrsY8GAuLpcqW6OeXhGec+CWnXfoT5JyelmZxEHdNrgWAaGfHa3ox6hRT6+oed6xhql817b68de6VFIfH+cfKp/46Y+Xm78VUbd8h+nzx+8nfnQFxcfrJ6d4VePonybKtT76E1Y2TgxTXk+f9Us+9C/OOycZDk8koCQLOHqOot/x5Dl0UvPumEA/6JemLf3K67l6/ZKygbC15G8E9voVOmzZ2J6zk8TZXVLZungjrTa85ro40JwGvmf00mCFYSnZ2NjtzALIwoYvQbWFCvVci35ljiNBZAKKb+ordTjQz4629KtQD/SLkWU0h92CfoVd4sOvfxDbCXsI8ontlk5r/j3wkP7+k/30k5IhfviVfvOJFr/wMe6Qvv+yIPJ/o69Jj/mIfprs6C+RAxR0jVBecHYVdf78u8Iwx/Ev2tHP9E9mC1b1dJiQJ4N3blLnbeaUz+T4SnvSc+ZupnGXmp4Luq9APzva0s+qng7T1nm3UU+DWeJH+mtH9DNvgRWGX/9N7m5Bv3z+hRbk029nb80Y0j9/7n/DfD3I61kOC95+3bB47yEnU1vVevrGkD6No/8WEpL/uCHHi/Ub0mInesXEcvSIlqM5Xcsw4hnoZ0dT/Uyq1tM32jrv+vW0+FrXLa3Z0/hutyP33/HkNNBPZC9LGdv5KCN4U6lWT/8IiQfbZXD9luTRU07mnOFiRS5t6OXqPA70s6Md/arW0z/aOu/69bTosLc0n/5Jvs9ugek1Rq39Zcgfg3d/kTmiYfayqGznA5r+6dMxebOgWT19YMjD6P1r6rzHaj+tgdDv4NFxt8gPfsM3OpBDN2YfW8+Afna0pV+TevpAW+fdSj0ng9SgNx8o12Z4y4lCyUzfiPNENLldm5QW/VY8SN8Pejnp4iRnNybXT5s8YV7vaD3zrYCieiTXqB+feKLqJ9aVmboxgavPKBX3nFEO+kG/NO3oV1yPBPrFyN+zZonb6NfAYfOfjAM0d4xZ4v1DXFN23cWiXkvDYQtbiMspS7w9tx5Jf/Xjs23j81Ydh3HDF+lnbstoVKEf9MukDf04ufVIrl6/yClr2rElcdyW+jVLr7md0+DXn7TuzkJ4+SlRcFrnTF7oD0gvZwf0swP62QH97IB+dpTp12wM+/aO3N0zVf142fZlwx7A73rvrAEAAIBL0XDSWZ3PjW7pZTMh/wHuGgAAAGhK41ni/KMqf+S+rqNyS+vTH8pHVAAAAABQlwEf5I7+DwAAAIAPSrNJZyAX6GcH9LMD+tkB/eyAfnaU6dfih1MAAAAAcCngsAEAAIAOAIcNAAAAdAA4bAAAAKADWDvs0J/QpFJS2S3NryT/LAAAANA2pQ6bZ22Ryd7PyzxJxbWlb0ui+y/V3sd+8Iief4fH7iShT5NMG0jDg7hse2HUqKdXNDjv+N47B8Qh+ZNzHWK5FgGr6sc/g6yUOy9RBkHYX/l5axoaD1nQr9J5x21g6mHWVj/+WpeK+fFxnuhDzziiwD8Un5nVJYe65TtIPz9+Lz9on9iBSBCQ/nC9gH/cXrnGR89hZePEMOX1XL1+MeJecU+ulvFHJhpI8gxkAP3SnJMVwf7kaoF+5jaxjvu3uv3FZQNxryZ/I7DXz8php7J2iUwkygGY6+KA8060H/TSYLWbllPuOBJUG6hQD/TjxNvlv+f7r1x36GcA+6ulnwiwtYcqpc2GfhFV7E+W0XxnC/pZjGGH9HZg8YGa/X24oCePaDnz2daQ/NmSyHuiRdJjPqIbZ0+vZgZv8KEJ5YVmV0/n8FZheOP4SnsaE8/RblVPh6l73qE/o+U4oHXO5/c307hL7TrmhNjYzfbbkvbuSrRBsD+drPMefhoT7V9Jb6Jlmw39dOqedxv1VHLY++Uo6XNPxoLYJX3dE415S6wwXKzI3S9pNmGNDnn0dPbWjCFxe+j7Be4/8jqWw4K2xw0L2B9yMrVVradvFJx36NNsOaYg01sPabETvWJiOfLgeBTfj9dEVbvhiYfYM81dXuIh2F+K2zUF7oamSXv/SAcn2pYC+tlRv55KDps91ieNxKk0p/UtrQOX9vs9uasFOyTQP2TvShnb+SgjaFOpVk//yDtv2Ss1DqrljRfBMW3o5eo8djW7Cf1H2jge5ScKhP1lcbs+B4Wn04rG7MEsG+hnR/16rF/rSrOl+fRAnseakuk1Rv/9I7ubLN27osJnOE8PHh1356CtST19oPp5y16rc5c3C3jYuujhmvBhJoPwjQ7kkDoq1Uea2Q1/g0V/aID96VQ67+0LCwld4p0U0E+n7nm3Ug+LojTMQe/8SWcZg+qM80Q0uV2blFZpsL7b9HLShZh4olw3bfKEeZ2j9cy3AYrqkUA/FbktvscCV5+wKe41Q2foJ9HfToiB/cnVqvYn/+7cxkM/uVpFP/3eldjrZ+Gw5TbtQM0DwCzx/iCuJbveYlGvoWGwwgbicsoSb8+tR3L1+mkYN72pbUZQBP04pqNRgP0V66eVy9AQ+hnnbdqftL1Yv3hJdLTUzy69Jn/B/vFG6/YshJefEgWl4+DdBenl7IB+dkA/O6CfHdDPjjL97Mawb+/I3T9T1Y+XbeWUzd46awAAAOBSWE46q/O5Uf6KhUNe/pRNAAAAAORgPUt8uNjRLve1HZVbWp92ykdUAAAAAFCVAR/kjv4PAAAAgA+K3aQzkAL62QH97IB+dkA/O6CfHWX6XeDDKQAAAABoGzhsAAAAoAPAYQMAAAAdAA4bAAAA6ABw2AAAAEAHgMO+NKFPkyS37IDmZenLapYP/YkoN/GNj9fwz8Am9UzI3NwZaugRa5FZ9sLXgcMzlPGyqWvBKNp2UVo5j5D8ybkOsVSpyKShbctFseH3tO2qx6wdk7pEGQsvaX/GvjUb+9HtQOPzMI61rn6M3Laxy/DXulR6+/H2d0LXz0hCIJI3pD/4fqZO+bhsoCeI4Jh/J9b1rDAflcb68Y/qK8kw9GxNl7wOEbyM455c81pwira1jJ39MTKPVSY4yMxPUpl6xyKuX1bGN/PvxHp7tm2tn8I5OdIl7Y+XVbaJ5BLR+oW1yqKxfoXH2lS/jLbxg6PrlwYOu2U0/VI3SEnDV7e8QJZRjTLd2Bk39QfGSj+VVMN1yesQb09fi+Jt7WOnX96xlv1dBWodS769Xtq2O2d/Yj9q2bMeP6IdaKpf4bE2vg6yXJ8cNrrEL0j4dmCB4A2NovWYw1t2F03d8nlkJ0rf06uZOf2DY6XH8ZWd8Zh4bvhLX4fQn9FyHNA64zP5RdsuTZvnwdlMc7orK1DrWMI3YqXpeXbuAo274N/Ttm3sb/ttSXt3JT7FfFH7Gy5o5W5oKrre+dDFlA7ek9jvj24H6pxH0bHaXIe+AYf9rgyJ22V16paPuF1TIG7iuMF7pIMTbes0VfVgDdfjhgXsDzmZ4Vq8DqFPs+WYgmxvnb/th9DwPNjfLXaiN04sR49oOYrGZhtTcCwi2CK6f4r2yXbobKZy3PKH2nZVu+GJjtgz4V3edW/R/hi361OkyYiW5NFTnLDhw7UDBedR61jr6tcf4LDflZB4sCj+p02oyWv8zuXrwm/iuIE9nVY05i1g56mmx3ZuNFwp2roOLDCYLWkcZOV3L9r2o2hyHmmGixW5tKEXJlaWfu3YtuwdEQy/0D1rvOMnqh9n29XsL/QfaeN4lJ+YsC3742xpzv725U7qcbx/ppHSA/Kx2oFi/aofa139+gMc9gXJ7uZhTRFriXiWs7NxyoayqLwV2xfWvLqUG/B/UJrowWc4Tw8eHXcLFodLLncdjvTKGpVzVzELFNj6fjmiwWRGz7nbfNbkXJ52ziPjWEWXtUM3I7aPLP1sbXt0w2o/UKUezwvadhP74w70GxPPXb2H/XGHpQcHw8UTec4+O+XxO7cDzfSLUI61rn69hp2oRtmgNyhG149PnFAmR6QmT5gUlZcTKOSsU5WyiRWyzq5MvKiun6lHtJ41s7iwniyaXAdO0bUou07t0Fw/Ff1YA1efqCRmP2fqXET9a5loJcpmTZaSdbapqa1+YvJUyraK6smixn7NusQkNOVvE9rXKot27M881rr6xRh21AF0/dLAYbdMSr/oBuKxUXajY5Bb3jRwacSy3HkRxqnV0XGDraqHuInP55ws8faLXQeVogbifRqPxvppGMdqalvbWUfUORatrNJYG7+3raedfgVOMbeeHGrsVwRQSVll/xfWKovG+pUday39CtrGD05KPwOk12wZ6GcH9LMD+tkB/eyAfnaU6YcxbAAAAKADwGEDAAAAHQAOGwAAAOgAAz7IHf0fAAAAAB8UTDprGehnB/SzA/rZAf3sgH52lOmHLnEAAACgA8BhAwAAAB0ADhsAAAD48BD9FwSCB0tE6Ge6AAAAAElFTkSuQmCC)\n"
      ],
      "metadata": {
        "id": "QwTNj1ey-bkE"
      }
    },
    {
      "cell_type": "code",
      "source": [
        "import numpy as np\n",
        "import random\n",
        "import matplotlib.pyplot as plt"
      ],
      "metadata": {
        "id": "cmZHSMMYw7iA"
      },
      "execution_count": 15,
      "outputs": []
    },
    {
      "cell_type": "markdown",
      "source": [
        "Generamos los números aleatorios"
      ],
      "metadata": {
        "id": "AZNxVxntx-YK"
      }
    },
    {
      "cell_type": "code",
      "source": [
        "def ventas_sim():\n",
        "    ventas=0\n",
        "    u = random.random()\n",
        "    if 0.0 <= u < 0.20:\n",
        "        ventas = 30\n",
        "    elif 0.20 <= u < 0.45:\n",
        "        ventas = 40\n",
        "    elif 0.45 <= u < 0.70:\n",
        "        ventas = 50\n",
        "    elif 0.70 <= u < 0.90:\n",
        "        ventas = 60\n",
        "    elif 0.90 <= u <= 1.00:\n",
        "        ventas = 70\n",
        "    return ventas"
      ],
      "metadata": {
        "id": "FDFGJOIMxHup"
      },
      "execution_count": 16,
      "outputs": []
    },
    {
      "cell_type": "markdown",
      "source": [
        "Calculamos el beneficio."
      ],
      "metadata": {
        "id": "frSuXv2syHWk"
      }
    },
    {
      "cell_type": "code",
      "source": [
        "def beneficio(pedido):\n",
        "    ben = 0\n",
        "    ventas_reales = 0\n",
        "    ventas_perdidas = 0\n",
        "    no_vendidos = 0\n",
        "    vs = ventas_sim()\n",
        "    \n",
        "    if vs > pedido:\n",
        "        ventas_reales = pedido\n",
        "        ventas_perdidas = vs - pedido\n",
        "        no_vendidos = 0\n",
        "        \n",
        "    else:\n",
        "        ventas_reales = vs\n",
        "        ventas_perdidas = 0\n",
        "        no_vendidos = pedido - ventas_reales\n",
        "    \n",
        "    ben = 1.10*ventas_reales - 0.90*pedido - 0.10*no_vendidos - 0.20*ventas_perdidas\n",
        "    return ben"
      ],
      "metadata": {
        "id": "_y9JMwoDxluB"
      },
      "execution_count": 17,
      "outputs": []
    },
    {
      "cell_type": "code",
      "source": [
        "beneficio(50)"
      ],
      "metadata": {
        "colab": {
          "base_uri": "https://localhost:8080/"
        },
        "id": "aFX28h2pyTYm",
        "outputId": "f2dd2780-5a01-4e64-bae1-203dfcb4cb81"
      },
      "execution_count": 18,
      "outputs": [
        {
          "output_type": "execute_result",
          "data": {
            "text/plain": [
              "8.000000000000007"
            ]
          },
          "metadata": {},
          "execution_count": 18
        }
      ]
    },
    {
      "cell_type": "code",
      "source": [
        "def simulacion(n):\n",
        "    L=[]\n",
        "    benef = 0\n",
        "    for i in range(n):\n",
        "        benef += beneficio(50)\n",
        "        L.append(benef/(i+1))\n",
        "    return L"
      ],
      "metadata": {
        "id": "Mu7LQ6CHynIx"
      },
      "execution_count": 19,
      "outputs": []
    },
    {
      "cell_type": "code",
      "source": [
        "X=simulacion(500)"
      ],
      "metadata": {
        "id": "OFuQKMRZyq6o"
      },
      "execution_count": 20,
      "outputs": []
    },
    {
      "cell_type": "markdown",
      "source": [
        "Obtenemos la gráfica"
      ],
      "metadata": {
        "id": "mEzW6toQzCKk"
      }
    },
    {
      "cell_type": "code",
      "source": [
        "plt.plot(X, color=\"green\")\n",
        "plt.show() "
      ],
      "metadata": {
        "colab": {
          "base_uri": "https://localhost:8080/",
          "height": 430
        },
        "id": "dOu4htwoy25B",
        "outputId": "6620b20f-1f1a-486e-92a0-5bed2854c693"
      },
      "execution_count": 21,
      "outputs": [
        {
          "output_type": "display_data",
          "data": {
            "text/plain": [
              "<Figure size 640x480 with 1 Axes>"
            ],
            "image/png": "[encoded data removed]"
          },
          "metadata": {}
        }
      ]
    },
    {
      "cell_type": "markdown",
      "source": [
        "Calculamos la media."
      ],
      "metadata": {
        "id": "8FogmYhHzO5x"
      }
    },
    {
      "cell_type": "code",
      "source": [
        "np.mean(X)"
      ],
      "metadata": {
        "colab": {
          "base_uri": "https://localhost:8080/"
        },
        "id": "MlfXuTiMzUKj",
        "outputId": "4fbe3e9b-3e68-4b2a-f9a4-39d19def505a"
      },
      "execution_count": 22,
      "outputs": [
        {
          "output_type": "execute_result",
          "data": {
            "text/plain": [
              "1.2302365939733313"
            ]
          },
          "metadata": {},
          "execution_count": 22
        }
      ]
    },
    {
      "cell_type": "markdown",
      "source": [
        "Repetimos el modelo n veces."
      ],
      "metadata": {
        "id": "nvfl3LdqzXtj"
      }
    },
    {
      "cell_type": "code",
      "source": [
        "def modelo(n):\n",
        "    lista=[]\n",
        "    for i in range(n):\n",
        "        s = simulacion(500)\n",
        "        lista.append(np.mean(s))\n",
        "    return lista"
      ],
      "metadata": {
        "id": "bB85b52SzbRT"
      },
      "execution_count": 23,
      "outputs": []
    },
    {
      "cell_type": "code",
      "source": [
        "Y=modelo(40)"
      ],
      "metadata": {
        "id": "oxC1Pj4rzhxX"
      },
      "execution_count": 24,
      "outputs": []
    },
    {
      "cell_type": "code",
      "source": [
        "print(np.mean(Y), np.std(Y))"
      ],
      "metadata": {
        "colab": {
          "base_uri": "https://localhost:8080/"
        },
        "id": "CdH9w-6dzk5R",
        "outputId": "08ea456b-6222-46d2-c03c-d53da9995a16"
      },
      "execution_count": 25,
      "outputs": [
        {
          "output_type": "stream",
          "name": "stdout",
          "text": [
            "1.3622842260333168 0.5011273181036895\n"
          ]
        }
      ]
    },
    {
      "cell_type": "markdown",
      "source": [
        "Obtenemos la gráfica"
      ],
      "metadata": {
        "id": "sSCpcLJqz4Bm"
      }
    },
    {
      "cell_type": "code",
      "source": [
        "plt.hist(Y, color=\"Blue\") \n",
        "plt.show() "
      ],
      "metadata": {
        "colab": {
          "base_uri": "https://localhost:8080/",
          "height": 430
        },
        "id": "mRyFqpTuz61r",
        "outputId": "be33e499-bd9b-4b93-8de1-10404f199821"
      },
      "execution_count": 26,
      "outputs": [
        {
          "output_type": "display_data",
          "data": {
            "text/plain": [
              "<Figure size 640x480 with 1 Axes>"
            ],
            "image/png": "[encoded data removed]"
          },
          "metadata": {}
        }
      ]
    },
    {
      "cell_type": "markdown",
      "source": [
        "Calculamos la media y la desviación estandar"
      ],
      "metadata": {
        "id": "c2wnFi6X0TPq"
      }
    },
    {
      "cell_type": "code",
      "source": [
        "print(np.mean(Y), np.std(Y))"
      ],
      "metadata": {
        "colab": {
          "base_uri": "https://localhost:8080/"
        },
        "id": "4Hf6FXxA0aKM",
        "outputId": "5262dce8-8b70-43aa-e764-3c05cbb84c88"
      },
      "execution_count": 27,
      "outputs": [
        {
          "output_type": "stream",
          "name": "stdout",
          "text": [
            "1.3622842260333168 0.5011273181036895\n"
          ]
        }
      ]
    },
    {
      "cell_type": "markdown",
      "source": [
        "Calculamos el intervalo de confianza"
      ],
      "metadata": {
        "id": "52HP08q40-Kt"
      }
    },
    {
      "cell_type": "code",
      "source": [
        "np.mean(Y) - 1.96*np.std(Y)/np.sqrt(50), np.mean(Y) + 1.96*np.std(Y)/np.sqrt(50)"
      ],
      "metadata": {
        "colab": {
          "base_uri": "https://localhost:8080/"
        },
        "id": "vBQNyLGE0vBn",
        "outputId": "9eeea848-8102-4e99-edb8-229becb0ef34"
      },
      "execution_count": 28,
      "outputs": [
        {
          "output_type": "execute_result",
          "data": {
            "text/plain": [
              "(1.2233788202846896, 1.501189631781944)"
            ]
          },
          "metadata": {},
          "execution_count": 28
        }
      ]
    },
    {
      "cell_type": "markdown",
      "source": [
        "(b) Analíticamente."
      ],
      "metadata": {
        "id": "22YWxr56CR7A"
      }
    },
    {
      "cell_type": "markdown",
      "source": [
        "Utilizamos la tabla de los intervalos.\n"
      ],
      "metadata": {
        "id": "DALwROQmCfHu"
      }
    },
    {
      "cell_type": "markdown",
      "source": [
        "Generamos números aleatorios con la calculadora\n",
        "\n",
        "0.24\n",
        "\n",
        "0.93\n",
        "\n",
        "0.52\n",
        "\n",
        "0.86\n",
        "\n",
        "0.95\n",
        "\n",
        "0.19\n",
        "\n",
        "0.30\n",
        "\n",
        "0.48\n",
        "\n",
        "0.97\n",
        "\n",
        "0.24"
      ],
      "metadata": {
        "id": "NUj8Ilk8-Fkq"
      }
    },
    {
      "cell_type": "markdown",
      "source": [
        "Simulamos las ventas de un día y calculamos el beneficio"
      ],
      "metadata": {
        "id": "vA1Bh_Z6-IJh"
      }
    },
    {
      "cell_type": "markdown",
      "source": [
        "Utilizamos la  formula para calcular el beneficio\n",
        "$$B=(P_u*V_r)-(C_u*P)-(C_{ur}*P_{n})-(C_{vp}*V_P)$$\n",
        "$P_u=$Precio unitario de venta\n",
        "\n",
        "$V_r=$Ventas reales\n",
        "\n",
        "$C_u=$Costo unitario de adquisición\n",
        "\n",
        "$P=$Pedido\n",
        "\n",
        "$C_{ur}=$Coste unitario de reciclaje\n",
        "\n",
        "$P_n=$ Periodicos no vendidos\n",
        "\n",
        "$C_{vp}=$Coste venta perdida\n",
        "\n",
        "$V_p=$Ventas perdidas"
      ],
      "metadata": {
        "id": "CiMcDdmOC_LX"
      }
    },
    {
      "cell_type": "markdown",
      "source": [
        "Si **Ventas simuladas** $>$ **Pedido**\n",
        "\n",
        "Ventas reales=Pedido\n",
        "\n",
        "Ventas perdidas= Ventas simuladas-Pedido\n",
        "\n",
        "Si **Ventas simuladas** $\\leq$ **Pedido**\n",
        "\n",
        "Ventas reales=Ventas simuladas\n",
        "Ventas perdidas=0\n",
        "Periódicos no vendidos=Pedido-Ventas reales"
      ],
      "metadata": {
        "id": "LQ4QFJ0TDRph"
      }
    },
    {
      "cell_type": "markdown",
      "source": [
        "![Captura de pantalla (32).png](data:image/png;base64,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)"
      ],
      "metadata": {
        "id": "9ZR7O1etBr5Z"
      }
    },
    {
      "cell_type": "markdown",
      "source": [
        "Replicamos el modelo 40 veces, y obtenemos:"
      ],
      "metadata": {
        "id": "YSFisOFNEouf"
      }
    },
    {
      "cell_type": "markdown",
      "source": [
        "![Captura de pantalla (33).png](data:image/png;base64,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)"
      ],
      "metadata": {
        "id": "5Izi12nxF7Fz"
      }
    },
    {
      "cell_type": "markdown",
      "source": [
        "Calculamos la media y la varianza\n",
        "\n",
        "$\\bar{x}=1.49$\n",
        "\n",
        "$sd=0.397$"
      ],
      "metadata": {
        "id": "z9M361h-F_Ep"
      }
    },
    {
      "cell_type": "markdown",
      "source": [
        "Obtenemos el intervalo de confianza con un nivel de aceptación del 95%\n",
        "\n",
        "$$\\therefore 0.72\\leq\\mu\\leq2.27$$"
      ],
      "metadata": {
        "id": "JcWfq5vEGvS_"
      }
    },
    {
      "cell_type": "markdown",
      "source": [
        "(c) Determine por simulación  el pedido de periódicos que optimiza el beneficio.\n"
      ],
      "metadata": {
        "id": "KWv7687FHjLa"
      }
    },
    {
      "cell_type": "code",
      "source": [
        "import numpy as np\n",
        "import random\n",
        "import matplotlib.pyplot as plt"
      ],
      "metadata": {
        "id": "vdDqEhVnIFPp"
      },
      "execution_count": 29,
      "outputs": []
    },
    {
      "cell_type": "code",
      "source": [
        "def ventas_sim():\n",
        "    ventas=0  \n",
        "    u = random.random() \n",
        "    if 0.0 <= u < 0.20:\n",
        "        ventas = 30\n",
        "    elif 0.20 <= u < 0.45:\n",
        "        ventas = 40\n",
        "    elif 0.45 <= u < 0.70:\n",
        "        ventas = 50\n",
        "    elif 0.70 <= u < 0.90:\n",
        "        ventas = 60\n",
        "    elif 0.90 <= u <= 1.00:\n",
        "        ventas = 70\n",
        "    return ventas \n",
        "     "
      ],
      "metadata": {
        "id": "RHfvuKHuIR7o"
      },
      "execution_count": 30,
      "outputs": []
    },
    {
      "cell_type": "code",
      "source": [
        "def beneficio(pedido):\n",
        "    ben = 0\n",
        "    ventas_reales = 0\n",
        "    ventas_perdidas = 0\n",
        "    no_vendidos = 0\n",
        "    vs = ventas_sim()\n",
        "    if vs > pedido:\n",
        "        ventas_reales = pedido\n",
        "        ventas_perdidas = vs - pedido\n",
        "        no_vendidos = 0\n",
        "    else:\n",
        "        ventas_reales = vs\n",
        "        ventas_perdidas = 0\n",
        "        no_vendidos = pedido - ventas_reales\n",
        "    ben = 1.10*ventas_reales - 0.90*pedido - 0.10*no_vendidos - 0.20*ventas_perdidas\n",
        "    return ben "
      ],
      "metadata": {
        "id": "NmLxT9CxIbTQ"
      },
      "execution_count": 31,
      "outputs": []
    },
    {
      "cell_type": "markdown",
      "source": [
        "Para optimizar el pedido:"
      ],
      "metadata": {
        "id": "xPGmiSqvIj06"
      }
    },
    {
      "cell_type": "code",
      "source": [
        "beneficio(80)"
      ],
      "metadata": {
        "colab": {
          "base_uri": "https://localhost:8080/"
        },
        "id": "Yb7zlmoLIil-",
        "outputId": "0dc2b148-ea3a-454e-dc0e-5e74cdcf4b75"
      },
      "execution_count": 32,
      "outputs": [
        {
          "output_type": "execute_result",
          "data": {
            "text/plain": [
              "-44.0"
            ]
          },
          "metadata": {},
          "execution_count": 32
        }
      ]
    },
    {
      "cell_type": "code",
      "source": [
        "def simulacion(n):\n",
        "    L=[]\n",
        "    benef = 0  \n",
        "    for i in range(n):\n",
        "        benef += beneficio(50)\n",
        "        L.append(benef/(i+1))\n",
        "    return L # retornamos la lista con los beneficios promedio para cada muestra\n",
        "     "
      ],
      "metadata": {
        "id": "9k_r7datI3UT"
      },
      "execution_count": 33,
      "outputs": []
    },
    {
      "cell_type": "code",
      "source": [
        "graf=simulacion(800)"
      ],
      "metadata": {
        "id": "PEyJ6DG-JY01"
      },
      "execution_count": 34,
      "outputs": []
    },
    {
      "cell_type": "markdown",
      "source": [
        "Obtenemos la gráfica"
      ],
      "metadata": {
        "id": "ikqu2G1cJcp7"
      }
    },
    {
      "cell_type": "code",
      "source": [
        "plt.plot(graf, color=\"green\") \n",
        "plt.show() "
      ],
      "metadata": {
        "colab": {
          "base_uri": "https://localhost:8080/",
          "height": 430
        },
        "id": "P6-hfxllJq2c",
        "outputId": "ffd6029b-ceb2-42ef-ea91-014f22b26f00"
      },
      "execution_count": 35,
      "outputs": [
        {
          "output_type": "display_data",
          "data": {
            "text/plain": [
              "<Figure size 640x480 with 1 Axes>"
            ],
            "image/png": "[encoded data removed]"
          },
          "metadata": {}
        }
      ]
    },
    {
      "cell_type": "markdown",
      "source": [
        "Calculamos la media"
      ],
      "metadata": {
        "id": "ph00Jap0J_fL"
      }
    },
    {
      "cell_type": "code",
      "source": [
        "np.mean(graf)"
      ],
      "metadata": {
        "colab": {
          "base_uri": "https://localhost:8080/"
        },
        "id": "JyBS8E4NKBaW",
        "outputId": "b469b967-2e52-4f31-cd95-8cb5957e28a8"
      },
      "execution_count": 36,
      "outputs": [
        {
          "output_type": "execute_result",
          "data": {
            "text/plain": [
              "1.2495894215832202"
            ]
          },
          "metadata": {},
          "execution_count": 36
        }
      ]
    },
    {
      "cell_type": "markdown",
      "source": [
        "Beneficios"
      ],
      "metadata": {
        "id": "HMXtTGprKGjk"
      }
    },
    {
      "cell_type": "markdown",
      "source": [
        "![Captura de pantalla (34).png](data:image/png;base64,iVBORw0KGgoAAAANSUhEUgAAAOQAAADtCAYAAACvWNlFAAAAAXNSR0IArs4c6QAAAARnQU1BAACxjwv8YQUAAAAJcEhZcwAADsMAAA7DAcdvqGQAAAAhdEVYdENyZWF0aW9uIFRpbWUAMjAyMzowNTowNyAyMDoyMjo1MSu4blgAABPbSURBVHhe7Z2/duK6t8d37qPcG9asU+QB4A3ImuJUKVOSNhQpp5pyCmhDmTLVFFnwBuEBTjHrXPjdV+FKlmTrz7YtEyds8PezlmYCyAa0/bUlbfT11UFBPbL7z//R6H/+2z4C0kB8ZPNf9n8AgAAgSAAEAUECIAgIEgBBQJAACAKCBEAQECQAgoAgARAEBAmAICBIAAQBQQIgCAgSAEFAkAAI4up/9//pdbUHAOB4sPxqYCA+skGXFQBBQJAACAKCBEAQECQAgoAgARDEhQhyQw9XVzRZ7u3jPS0nV3Q1Waq/moi3A+LYL2miYnRVlAcVsdzYOrrWPy1fI8jNg23QsEAIMtgvJ2x8Hja2wslQYrqf03a2Jp2dOxyeaWpfuVS+8Ao5psVON6ot6xlt5yO6+pSoX9Pju3qP90f1F8gjjM9uMabV7alFuaM/W/XJ/hrZx5qusT2vY+F0XdbpMylNEq1+q24IkMb19zslUaJ//j1hL2b/L/1j/xwKJx1Djv4qQk5BzOPuLXeKDupMKO351owbWrezBOMWU07ffRNCS3yK7m/R7mZ87uqxw5OGfW0e1OOR6q6qv4ueVPl6TmxdXU1NfakxVt2TXtG/jU1Yzw6q43FQXaIAdYVUz88Oa/vY1KPDzD2xWxyUZA9jf8OaOvq5qt7uoHpcBxov1F+WrO0Utl7je54xXHxU91R9vzA+SWw0GfEx+wq3dc8F7ZexL/a5nNgq9Oc3j+vrS4zxyQTpglQ1im24qEVMPRdcvk4auDgIHbdjolIcoH5Qz5R6QarvF5egHXLi4x7HJ9/1QY1OOsZakSXI+pgZ8utLiPEXdlm3NB9V3QPVGykmEd4f7VB7/0avqn8y+zucR7v+dqP+dd1abpCvuP5GulY9mdvZz5DUUxTd6+0rvdV1c8+eaNJtt6Dx6rbq+mXFx3FD34IZlBEVzfdnZx522lcLDTFjER7j082yHt7JadFHz+z5/fqr25V9RXHsIL/jdjfh0VRgDpYBcf1IL+pSQqufwVi7MT4d6XNfXMyakBrjk07qcKiehCfaSLytV8IaOm7HzSzu/x3afJ87QLfkLmyaxvh0pM99dZ0NlhpjOYK0omlu2Kjr42i9AmZud/2d7rh6il3R572j70ccLOeKOUDHVPTusuKTySfsi4sZi/AYC7pCTulJdZH0FHcw/ayns8sp62v6rltTjW2qWe0lTez0eD252zH1FHoqX/emZj8G9EMD1T73c9U6sx/2ipUTn1z631ccM5024X8JJjzGqpvQK13SHix2+rkszKxXOCuoZ+XMzFn9LKuhfTtL/BlyP/sZ0GWWNWkXTUt8kpnSgpqZzbZY56Y9FMl3KN+Lry81xrDwGBiIj2zETeoAMGQgSAAEAUECIAgIEgBBQJAACALO5QAIAmmPgYH4yAZdVgAEAUECIAgIEgBBQJAACAKCBEAQECQAgoAgpRLbGpZF2+nHhJaLugTrDC8Oa+3Y+XvmtFO176pwbW5h7CTDdZgd96fzkH3CrocE3SnW62Ws0WPWDLq1gfHyQ83Zxydax8h9R5bMdtLOc+H6S+OYl67xbG5nR5f9aSBIqWQKkrcurFmUqzjr+PiissLMFWTXdvIxwotiwS6ezoPdnwVd1rNmQ79XKrR33yPbCWtTcWm2ldeP9K4uIqV1aDb9t9P+7ZW2NKMfxzhyNQBBnjPWpKve0jB0jBssH2knNZYfzbfqIvriueHt6c2Yu1KmG2wFu78KCFI0obl0cj+S3Z/IpAuwdGqnaBLmdqXEs+OvykrLb/GETWLS1WF/CghSKtNn61NalfXMCPSyZ1BPjb19Xdnua7opbvbjnwyNEz6tXolewrqz7ZxGgShz9lcBQZ4R02cVcPX/6rdV5Oiv4pZxoIUPtdOUnrXQdG/llzsTGp/fyiLTYS0pG8ek3P4qIMizwh4I//wbdIvqXbityTEoOL6d+HZPHmdTsz8FBHlW2K7SzTczW+hcuF/fosC6SYdhOa3X8uF2itq9nJ39o14JKdzP1eCy+VYj8f48VL+2V5CH7AOTHwtzbDZnFieUbT7Oz4c15bkuJj4NeUg2YZ/VTiZpz7c7n4cMzJ+T9+iwPwsEKRUb3KDUJbCTunywNZfww4Dwu9ritQ0rSE1OO3Vpd+bztL+nKg0/RICFx8BAfGSDMSQAgoAgARAEBAmAICBIAAQBQQIgCDiXAyAIpD0GBuIjG3RZARAEBAmAICBIAAQBQQIgCAgSAEFAkAAIAoIUSeqwHZTEVAfO5d3wjKe4HSSu8Yz/TZazfNc4QpBC0b4rvjGSLbtF4Q0z9v0mCiv7W/pnsSvr7RZjWt1eqCgLIYxorlfcH8l+ea+2H9NYN2bEfjkpnOFm66rdjbkYZ0o1psWuqmfKs4qeo0McHapCr2CB8udRuG9HjgFwLrevZeNW8ds2CnZgbf7TVcbp88X71y8Eb4KLowNXyLPBuG/T7G/vDAzn8q5sHm5pNV7QU9WIFdZQOb1y1ZtSdYeLYwUEeSbslz9ppbtI/pEE5/JuqO79z5Vqw5fH1FyqkWsyzZmaWnWFjaMHBHkW1Lijwbm8A3ta3s9pm3ipejh3uvl9OF4shGz/Dmhxlk9od7mDIM+Bza9iEmP2o+uZHZQUbTij9TN/ZTJol/EdLcaR0O6J7tQgMuAYZ/mMOEKQ4lFn9uL0PKO/42MJzuWZbOihuKfGEztuC4mt/1V5f6Rv+qWWm+skzvIBDXH0gCCls3+jopfTcDDBubyFzW81btNdUX1PDXfls6mT1W3xuDlFZCdiOGPjgIbJn4w4aiBI4Wx+qXGPEtYdN+iAc3keTPfycNBdU/XabF08burJtk3EVNQ7kjfG0Ud9mF5BHrJP6vJiHjYfB+fyilqj5AAuD5ni9uW3r9s23NQ5knP5xYw4WiBIweQdWIrEHRvO5fq5YwRpkvZ+qWnLpM1VqXEkz46jAhYeAwPxkQ3GkAAIAoIEQBAQJACCgCABEAQECYAg4FwOgCCQ9hgYiI9s0GUFQBAQJACCgCABEAQECYAgIEgABAFBAiAICFIyjDv2hHVRGppzeS5HOpxnt7ujxQldUxhaZ+xT5yH7BOshe4JbgMssRnZrBNMFyvz6u8HEJ1qvmLMWsSC33T1Me48P45oFz13WQ0KQQml0JPciOyjn8lw+4HCe2+4VTU7oCuaE2QS6rJJJjHmtZ0vJwJzLc/mow3lru1c0OqEr9m+vtKUZ/cj8LBCkUKZP+oYsK7ot76akxykq+Cq4pbconMt7J6vdHa1O6M5srNk+0geClIo+yxd3SdIHh54EGNH8RjukeXdXgnN5/+S0e4ESapsTukOdG9/cpI8rk6XaQwoEKRjT3VGMx+oAUWgP0ZpAgv7IavcsJ3Tb1V29Er34FpRrmm3nNGJiCUEKZfNwRaM5mfsPvr8XYyI940B+IOFc3jtZ7a7TTFlO6NY4ObmKTulpwY/xIUiJ2Ju7jBcvYSCnz8XNWONAwrm8J3LbvasTeofb2EGQ5wycy09DthO6m+1Ob2O3MxbnlMzHqY17BXnIPrA5rdik1xkF+7kuJmntEtVc6mtw8WnIQ6YJ+w7tntCch2yLmQOCFEyRpNbB9AqbYLYBrsqFOpfn4kTAFS/pX/cLmux2D2j48QDzeeq0DQuPgYH4yAZjSAAEAUECIAgIEgBBQJAACAKCBEAQcC4HQBBIewwMxEc26LICIAgIEgBBQJAACAKCBEAQECQAgoAgARAEBCmZxEF7QryB9tCcy49xJPfcxV3hNmZcy01xLnQeWfHJfF+HzkP2CdZD9gO3Vs+s0+MXz6YLlPk1d2cfn2jtZ926wpii7cLGNPuId1A8X7+e1JEbn+z3tUCQIjFu2GnQ0ueLgA/Fudw/+dgDu+a4zsIIaKZa1SNLkPnx4WDf14Iuq0SsAfI4caiyLmaladLAnMs/6kgeMSoa8wiy48PT9L4Q5FlxTcaQ3Jomwbn8QxijqT6J4lND0/tCkBJxbnLz+3CSwNoUlsC5/HhKy0fOW3VL85E/ERNN1uTGh6PxfSFIoVzT47u2FYwOjHuiOzVIAR/F3gaAuwkOY/G4npk4VJOjx8an4X0tEKRYdNDDA+Pw/kjf9Evu5i1wLj+KzYM2NR7TYhffr4Nn+rxWEiJa/fbTFRnxich5XwjyrDCTOGrQqA6HCjiX57NfTuhWteFs/d5+k5ySvMmauvhost9XKbtXkPb4PEzuy5+Sr0tvXGjaw+eItIfLHbZ7rMbkpTPS+Bi6vC8EeSbUBtUemOkPA/hc2hAE6doqeI1ppxRzIgv3aU9uNXlDR5f4NAFBCsUkj/3SkKy2Qc+pe9bxOdqR3ImqpvgKTNpSFaankRefDu9rgYXHwEB8ZINJHQAEAUECIAgIEgBBQJAACAKCBEAQcC4HQBBIewwMxEc26LICIAgIEgBBQJAACAKCBEAQECQAgoAgARAEBHkycty3cx3J4VyeBeNKPkmsxhmncc613LFf0iSoy+wz24FeofOQfYL1kBlEa+6YZXHl2r904XFUH87ledjtgvr2Ob/t9DrHcDGxdQtgFig3tbODq2PWUvJrViHIrybTfbsIWoY1R249xyUsUG5rO47GdmrZiRFVJCDmRJjS3eEcXdavJst9O9eRHM7lnUgMjHd0rFfy/u210c6x4AiHcwhSIrmO5HAuz2b6tKAxrei2HA/qseKtemZG6+cGM0g1/hvNt+ri+uK5xe3p7VUpucbusZ16h3MIUiK5juRwLs9HX113TpR6YmVE85u1GrLFHqnRpM7tSolxx1+Vlaje4gmgybK66h3hcA5BgsFgupmK8dgYTK9uQwEVxAbIa7qZj5TY/JlR29VdvRK9hHVn2zmNyn12dziHICWS60gO5/JsNg9XqutJtNgp4by/F2NRPdOjLl+egDim9KyFpqQ8/+WSH3YMOPsRmR5P6WmhL4n+2L2bwzkEKZhcR3I4l7dQ3uDGHwcqps+0SwTEUTMJ0+pkXke9wzkEKRE39nh9iwLuJhPu6LuOZG498EFsF7UUkJvFTidlzK3mboiZZyvZL3+qkeyYFk/MZJK6hPYK8pAdaMqlMUlrNh+WW89yMfFpaLs0Ge8Mi/lcYpUPNPnBcJ+52yqYWMS4z1ZXB4L8alwguRInrm2Aq8KLLLue4hJ+GBB+V1u8tksFaTC/kAlLIoykLVVhfmBRwHye9vesj40GFh4DA/GRDcaQAAgCggRAEBAkAIKAIAEQBAQJgCDgXA6AIJD2GBiIj2zQZQVAEBAkAIKAIAEQBAQJgCAgSAAEAUECIAgI8sthnLFr7bfhXM5zhHM541puSuxKnutcnlvPx9um7oPrPGSfYD1kM8X6OGZRa2Kaa9fapQuPozV3ufUsZx+faL0i9x1Ziu2a1yJqdHzCNZK8c3luPR8Tl/Fh3GDODEEKwCxiTQOeLoyFc3l58rHC7FuQHE5Ibds213NuBM1u6eiyCmBUOCj5wLmc5aPO5Sdk83BLq/GCOBsdHwhSAMYYyQPO5XJgncsZmuoVrndjWrw8RifOFAjy1JQWhU+Vgzacyz+JyLCYvS1cNFlT61zeod79nLaJhysPBHlSbLDabtoCPs702ZgUe2U9MwINJzxznMs1mfU2v2i+bbl/iAcEeUI2DyMVLNWV2UX3l4Bz+ZcwfdaO5ESr303JCs65nIOrt6GH4srp9X5agCBPxH45IRUrmq3fa7sycC7/bOpvCxdyZL3Nb9IG5dviyum6t/okrJ7U9xVRj+N0JAR5ArQYzQTAjtieDJzLv4jYkbyOI+sx3eTDQd98R70203feOqTxV0/2CvKQLdj8WZhUZmDqsXmu3HqWi4lPQx7SfH//NZP7C+s6R3I//5vrXN7B4TyhOQ8JQX4pLmg1JQ6SPeiqUhPs3HqKS/hhQPhdbfF+BJEKUpG0UbhNSd/1EpoFCQuPgYH4yAZjSAAEAUECIAgIEgBBQJAACAKCBEAQcC4HQBBIewwMxEc26LICIAgIEgBBQJAACAKCBEAQECQAgoAgARAEBPnlROZIRalzvIZzOU/Vhsd9Ty8G3A4Sl3PODMuyX9IkqHtFE79ytmO6Rech+wTrIZvJdryGczlPtA6xZllhI24BN+cgzrWdMbJO15g2tXNJ8XnbFi1XQJACcAeIHzQ4lzN8xLm8pMlB3J4ck50yzzMnQpaOgkSXVSRwLmfpwbm80UHcGk+PE2ew1ORq//b6KfadEOSp4Ryv4Vz+OXRwEA+5JtOcf8g0pzMR+0tJtV8gyC8nmtThHK/hXP4JWFPqJgdx5+I3vw8ncay7fIIS6Vs8QTdZllfRihzHdAME+eXkOmODXslyENex0TaNkYDuie7UILLC2j2uXolewljOtnMa+aLMdkw3QJAnh3G8hnN5z3RxEI9PmKq8P9I3/VLZRbVjyuRqO6Wnhb7ENo/dmxzTIUgR8M7YcC7viSMcxEPM5FlilNzqZF5HvRM6BCmCyPEazuX9coyDuMd++VMJekyLcmrWzWK7SZ4Kc2vBG2Lm2TwanNDVh+kV5CGb6OB4bfNsacL/yHqWi4lPQx4yK2Hv2r25UrmvJN/oTJv97ZNYmPfg483f+hyC/Gps0IJS53id1K1JMOfWU1zCDwPC72qL14YfEaT5VY5f6tuS+zzJe3aJtwIWHgMD8ZENxpAACAKCBEAQECQAgoAgARAEBAmAIOBcDoAgkPYYGIiPbNBlBUAQECQAgoAgARAEBAmAICBIAAQBQQIgCAgSAEFAkAAIAoIEQBAQJACCgCABEAQECYAgIEgAxED0/4db2El49MVdAAAAAElFTkSuQmCC)"
      ],
      "metadata": {
        "id": "-xirlkesLBRh"
      }
    },
    {
      "cell_type": "markdown",
      "source": [
        "En la tabla podemos observar que el beneficio es mayor cuando se realiza un pedido de 80 periodicos."
      ],
      "metadata": {
        "id": "k4yW5UM3LFSX"
      }
    }
  ]
}